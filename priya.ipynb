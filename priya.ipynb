{
 "cells": [
  {
   "cell_type": "code",
   "execution_count": 1,
   "id": "de4a0a16",
   "metadata": {},
   "outputs": [
    {
     "data": {
      "text/plain": [
       "'This is priyanka'"
      ]
     },
     "execution_count": 1,
     "metadata": {},
     "output_type": "execute_result"
    }
   ],
   "source": [
    "\"This is priyanka\""
   ]
  },
  {
   "cell_type": "code",
   "execution_count": 1,
   "id": "ae77fcc5",
   "metadata": {},
   "outputs": [
    {
     "data": {
      "text/plain": [
       "'kinjal updated'"
      ]
     },
     "execution_count": 1,
     "metadata": {},
     "output_type": "execute_result"
    }
   ],
   "source": [
    "\"kinjal updated\""
   ]
  },
  {
   "cell_type": "code",
   "execution_count": 1,
   "id": "e21e294d",
   "metadata": {},
   "outputs": [
    {
     "data": {
      "text/plain": [
       "'Shoba updated'"
      ]
     },
     "execution_count": 1,
     "metadata": {},
     "output_type": "execute_result"
    }
   ],
   "source": [
    "\"Shoba updated\""
   ]
  },
  {
   "cell_type": "code",
   "execution_count": 1,
   "id": "09552147",
   "metadata": {},
   "outputs": [
    {
     "data": {
      "text/plain": [
       "'sita modified'"
      ]
     },
     "execution_count": 1,
     "metadata": {},
     "output_type": "execute_result"
    }
   ],
   "source": [
    "\"sita modified\""
   ]
  },
  {
   "cell_type": "code",
   "execution_count": 1,
   "id": "d68c2edb",
   "metadata": {},
   "outputs": [
    {
     "data": {
      "text/plain": [
       "'krishna modified'"
      ]
     },
     "execution_count": 1,
     "metadata": {},
     "output_type": "execute_result"
    }
   ],
   "source": [
    "\"krishna modified\""
   ]
  },
  {
   "cell_type": "code",
   "execution_count": null,
   "id": "24358738",
   "metadata": {},
   "outputs": [],
   "source": []
  }
 ],
 "metadata": {
  "kernelspec": {
   "display_name": "Python 3 (ipykernel)",
   "language": "python",
   "name": "python3"
  },
  "language_info": {
   "codemirror_mode": {
    "name": "ipython",
    "version": 3
   },
   "file_extension": ".py",
   "mimetype": "text/x-python",
   "name": "python",
   "nbconvert_exporter": "python",
   "pygments_lexer": "ipython3",
   "version": "3.9.12"
  }
 },
 "nbformat": 4,
 "nbformat_minor": 5
}
